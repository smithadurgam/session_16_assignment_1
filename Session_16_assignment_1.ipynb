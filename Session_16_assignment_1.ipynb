{
 "cells": [
  {
   "cell_type": "code",
   "execution_count": 3,
   "metadata": {},
   "outputs": [
    {
     "name": "stdout",
     "output_type": "stream",
     "text": [
      "[1550 1700  900  850 1000  950]\n",
      "Standard Deviation :  335.92740617910624"
     ]
    }
   ],
   "source": [
    "# Problem Statement 1:\n",
    "# You survey households in your area to find the average rent they are paying. Find the\n",
    "# standard deviation from the following data:\n",
    "# $1550, $1700, $900, $850, $1000, $950.\n",
    "\n",
    "import numpy as np\n",
    "import pandas as pd\n",
    "import matplotlib.pyplot as plt\n",
    "from math import *\n",
    "\n",
    "five_num = np.array([1550, 1700, 900, 850, 1000, 950])\n",
    "print(five_num)\n",
    "x = np.std(five_num)\n",
    "print(\"Standard Deviation : \", x,  end=\"\")"
   ]
  },
  {
   "cell_type": "code",
   "execution_count": 4,
   "metadata": {},
   "outputs": [
    {
     "data": {
      "text/plain": [
       "335.9274061956442"
      ]
     },
     "execution_count": 4,
     "metadata": {},
     "output_type": "execute_result"
    }
   ],
   "source": [
    "b = 1550+1700+900+850+1000+950\n",
    "b/6\n",
    "c = (1550.00 - 1158.33)**2 + (1700.00 - 1158.33)**2 + (900.00 - 1158.33)**2 + (850.00 - 1158.33)**2 + (1000.00 - 1158.33)**2 + (950.00 - 1158.33)**2\n",
    "sqrt(c/6)"
   ]
  }
 ],
 "metadata": {
  "kernelspec": {
   "display_name": "Python 3",
   "language": "python",
   "name": "python3"
  },
  "language_info": {
   "codemirror_mode": {
    "name": "ipython",
    "version": 3
   },
   "file_extension": ".py",
   "mimetype": "text/x-python",
   "name": "python",
   "nbconvert_exporter": "python",
   "pygments_lexer": "ipython3",
   "version": "3.6.4"
  }
 },
 "nbformat": 4,
 "nbformat_minor": 2
}
